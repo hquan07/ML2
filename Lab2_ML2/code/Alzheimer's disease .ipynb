{
 "cells": [
  {
   "cell_type": "markdown",
   "id": "4172c8b9",
   "metadata": {},
   "source": [
    "# 1. Import Libraries"
   ]
  },
  {
   "cell_type": "code",
   "execution_count": null,
   "id": "733f7cb2",
   "metadata": {},
   "outputs": [],
   "source": [
    "import pandas as pd\n",
    "import numpy as np\n",
    "import matplotlib.pyplot as plt\n",
    "import seaborn as sns\n",
    "from sklearn.decomposition import PCA, TruncatedSVD\n",
    "from sklearn.cluster import KMeans\n",
    "from sklearn.metrics import silhouette_score\n",
    "from sklearn.preprocessing import StandardScaler\n",
    "from sklearn.manifold import TSNE\n",
    "import random"
   ]
  },
  {
   "cell_type": "markdown",
   "id": "e8be1654",
   "metadata": {},
   "source": [
    "# 2. Load Dataset"
   ]
  },
  {
   "cell_type": "code",
   "execution_count": null,
   "id": "a670de56",
   "metadata": {},
   "outputs": [],
   "source": [
    "df = pd.read_csv('C:/ML/Labwork2/dataset/data.csv')\n",
    "print(\"Dataset shape:\", df.shape)\n",
    "df.head()\n"
   ]
  },
  {
   "cell_type": "markdown",
   "id": "991345ca",
   "metadata": {},
   "source": [
    "# 3. Data Preprocessing\n",
    "Remove non-numeric columns if any"
   ]
  },
  {
   "cell_type": "code",
   "execution_count": null,
   "id": "04d7cffc",
   "metadata": {},
   "outputs": [],
   "source": [
    "df_numeric = df.select_dtypes(include = [np.number])\n",
    "df_numeric.dropna(inplace = True)\n",
    "scaler = StandardScaler()\n",
    "data_scaled = scaler.fit_transform(df_numeric)"
   ]
  },
  {
   "cell_type": "markdown",
   "id": "077246dc",
   "metadata": {},
   "source": [
    "# 4. PCA to 2D and 3D"
   ]
  },
  {
   "cell_type": "code",
   "execution_count": null,
   "id": "cdc2c03e",
   "metadata": {},
   "outputs": [],
   "source": [
    "pca_2d = PCA(n_components = 2)\n",
    "data_pca_2d = pca_2d.fit_transform(data_scaled)\n",
    "\n",
    "pca_3d = PCA(n_components = 3)\n",
    "data_pca_3d = pca_3d.fit_transform(data_scaled)"
   ]
  },
  {
   "cell_type": "markdown",
   "id": "3adb9583",
   "metadata": {},
   "source": [
    "# 5. Visualize in 2D and 3D"
   ]
  },
  {
   "cell_type": "code",
   "execution_count": null,
   "id": "cc812d9c",
   "metadata": {},
   "outputs": [],
   "source": [
    "plt.figure(figsize = (8,6))\n",
    "plt.scatter(data_pca_2d[:,0], data_pca_2d[:,1], alpha = 0.5)\n",
    "plt.title(\"PCA - 2D Projection\")\n",
    "plt.xlabel(\"PC1\")\n",
    "plt.ylabel(\"PC2\")\n",
    "plt.grid(True)\n",
    "plt.savefig(\"C:/ML/Labwork2/visualizations/PCA_2D_projection.png\")\n",
    "plt.show()\n",
    "\n",
    "# Optional 3D Visualization \n",
    "from mpl_toolkits.mplot3d import Axes3D\n",
    "fig = plt.figure(figsize = (10, 7))\n",
    "ax = fig.add_subplot(111, projection = '3d')\n",
    "ax.scatter(data_pca_3d[:, 0], data_pca_3d[:, 1], data_pca_3d[:, 2], alpha = 0.5)\n",
    "ax.set_title(\"PCA - 3D Projection\")\n",
    "ax.set_xlabel(\"PC1\")\n",
    "ax.set_ylabel(\"PC2\")\n",
    "ax.set_zlabel(\"PC3\")\n",
    "plt.savefig(\"C:/ML/Labwork2/visualizations/PCA_3D_projection.png\")\n",
    "plt.show()"
   ]
  },
  {
   "cell_type": "markdown",
   "id": "885b7188",
   "metadata": {},
   "source": [
    "# 6. KMeans Clustering Before PCA"
   ]
  },
  {
   "cell_type": "code",
   "execution_count": null,
   "id": "326b6151",
   "metadata": {},
   "outputs": [],
   "source": [
    "kmeans_orig = KMeans(n_clusters = 3, random_state = 42)\n",
    "kmeans_orig.fit(data_scaled)\n",
    "labels_orig = kmeans_orig.labels_\n",
    "silhouette_orig = silhouette_score(data_scaled, labels_orig)\n",
    "print(\"Silhouette Score (Original Data):\", silhouette_orig)"
   ]
  },
  {
   "cell_type": "markdown",
   "id": "c4dd0da9",
   "metadata": {},
   "source": [
    "# 7. KMeans After PCA"
   ]
  },
  {
   "cell_type": "code",
   "execution_count": null,
   "id": "172c9c7a",
   "metadata": {},
   "outputs": [],
   "source": [
    "kmeans_pca = KMeans(n_clusters = 3, random_state = 42)\n",
    "kmeans_pca.fit(data_pca_2d)\n",
    "labels_pca = kmeans_pca.labels_\n",
    "silhouette_pca = silhouette_score(data_pca_2d, labels_pca)\n",
    "print(\"Silhouette Score (After PCA - 2D):\", silhouette_pca)"
   ]
  },
  {
   "cell_type": "markdown",
   "id": "273471ab",
   "metadata": {},
   "source": [
    "# 8. Visualize PCA Clusters"
   ]
  },
  {
   "cell_type": "code",
   "execution_count": null,
   "id": "e5340aad",
   "metadata": {},
   "outputs": [],
   "source": [
    "plt.figure(figsize=(8,6))\n",
    "plt.scatter(data_pca_2d[:,0], data_pca_2d[:,1], c = labels_pca, cmap = 'viridis', alpha = 0.6)\n",
    "plt.title(\"KMeans Clusters after PCA\")\n",
    "plt.xlabel(\"PC1\")\n",
    "plt.ylabel(\"PC2\")\n",
    "plt.grid(True)\n",
    "plt.savefig(\"C:/ML/Labwork2/visualizations/KMeans_Clusters_after_PCA.png\")\n",
    "plt.show()"
   ]
  },
  {
   "cell_type": "markdown",
   "id": "51f4f737",
   "metadata": {},
   "source": [
    "# 9. Random Subspace Clustering"
   ]
  },
  {
   "cell_type": "code",
   "execution_count": null,
   "id": "12164171",
   "metadata": {},
   "outputs": [],
   "source": [
    "random.seed(42)\n",
    "subspace_features = random.sample(list(df_numeric.columns), k = 20)\n",
    "data_subspace = df_numeric[subspace_features]\n",
    "data_subspace_scaled = scaler.fit_transform(data_subspace)\n",
    "\n",
    "kmeans_subspace = KMeans(n_clusters = 3, random_state = 42)\n",
    "kmeans_subspace.fit(data_subspace_scaled)\n",
    "labels_subspace = kmeans_subspace.labels_\n",
    "silhouette_subspace = silhouette_score(data_subspace_scaled, labels_subspace)\n",
    "print(\"Silhouette Score (Random Subspace):\", silhouette_subspace)"
   ]
  },
  {
   "cell_type": "markdown",
   "id": "e70e050c",
   "metadata": {},
   "source": [
    "# 10. Summary"
   ]
  },
  {
   "cell_type": "code",
   "execution_count": null,
   "id": "7725b344",
   "metadata": {},
   "outputs": [],
   "source": [
    "print(\"\\n--- Summary of Silhouette Scores ---\")\n",
    "print(f\"Original Data        : {silhouette_orig:.4f}\")\n",
    "print(f\"After PCA (2D)       : {silhouette_pca:.4f}\")\n",
    "print(f\"Random Subspace (20) : {silhouette_subspace:.4f}\")"
   ]
  }
 ],
 "metadata": {
  "kernelspec": {
   "display_name": "Python 3",
   "language": "python",
   "name": "python3"
  },
  "language_info": {
   "codemirror_mode": {
    "name": "ipython",
    "version": 3
   },
   "file_extension": ".py",
   "mimetype": "text/x-python",
   "name": "python",
   "nbconvert_exporter": "python",
   "pygments_lexer": "ipython3",
   "version": "3.13.0"
  }
 },
 "nbformat": 4,
 "nbformat_minor": 5
}
