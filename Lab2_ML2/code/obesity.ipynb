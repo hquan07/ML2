{
 "cells": [
  {
   "cell_type": "markdown",
   "id": "0f822b0c",
   "metadata": {},
   "source": [
    "# K-Means Clustering on Obesity Dataset"
   ]
  },
  {
   "cell_type": "markdown",
   "id": "e9049618fbcb84aa",
   "metadata": {},
   "source": [
    "# 1. Import Libraries"
   ]
  },
  {
   "cell_type": "code",
   "execution_count": null,
   "id": "c34fbaef",
   "metadata": {},
   "outputs": [],
   "source": [
    "import pandas as pd\n",
    "import matplotlib.pyplot as plt\n",
    "import seaborn as sns\n",
    "from sklearn.preprocessing import StandardScaler, LabelEncoder\n",
    "from sklearn.cluster import KMeans\n",
    "from sklearn.metrics import silhouette_score\n"
   ]
  },
  {
   "cell_type": "markdown",
   "id": "228ac019",
   "metadata": {},
   "source": [
    "# Load the dataset"
   ]
  },
  {
   "cell_type": "code",
   "execution_count": null,
   "id": "1ad8ad68",
   "metadata": {},
   "outputs": [],
   "source": [
    "obesity_df = pd.read_csv(\"C:/ML/Labwork2/dataset/ObesityDataSet_raw_and_data_sinthetic.csv\")\n",
    "\n",
    "# Encode categorical features\n",
    "categorical_cols = obesity_df.select_dtypes(include = ['object']).columns\n",
    "le = LabelEncoder()\n",
    "for col in categorical_cols:\n",
    "    obesity_df[col] = le.fit_transform(obesity_df[col])\n",
    "\n",
    "# Standardize the data\n",
    "scaler = StandardScaler()\n",
    "scaled_data = scaler.fit_transform(obesity_df)\n"
   ]
  },
  {
   "cell_type": "markdown",
   "id": "b0886028",
   "metadata": {},
   "source": [
    "# 1. Experimental Protocol"
   ]
  },
  {
   "cell_type": "code",
   "execution_count": null,
   "id": "dc973e01",
   "metadata": {},
   "outputs": [],
   "source": [
    "inertias = []\n",
    "silhouettes = []\n",
    "k_values = list(range(2, 11))\n",
    "\n",
    "for k in k_values:\n",
    "    kmeans = KMeans(n_clusters = k, init = 'k-means++', random_state = 42)\n",
    "    kmeans.fit(scaled_data)\n",
    "    inertias.append(kmeans.inertia_)\n",
    "    silhouette = silhouette_score(scaled_data, kmeans.labels_)\n",
    "    silhouettes.append(silhouette)"
   ]
  },
  {
   "cell_type": "markdown",
   "id": "3ea75aa0",
   "metadata": {},
   "source": [
    "# 2. Centroid Initialization\n",
    "We used 'k-means++' for better initialization, which spreads out initial centroids."
   ]
  },
  {
   "cell_type": "markdown",
   "id": "07f45fcf",
   "metadata": {},
   "source": [
    "# 3. Analyze results"
   ]
  },
  {
   "cell_type": "code",
   "execution_count": null,
   "id": "e48cd358",
   "metadata": {},
   "outputs": [],
   "source": [
    "plt.figure(figsize = (12, 5))\n",
    "\n",
    "plt.subplot(1, 2, 1)\n",
    "plt.plot(k_values, inertias, marker = 'o')\n",
    "plt.title('Elbow Method (Inertia)')\n",
    "plt.xlabel('Number of Clusters (k)')\n",
    "plt.ylabel('Inertia')\n",
    "\n",
    "plt.subplot(1, 2, 2)\n",
    "plt.plot(k_values, silhouettes, marker = 's', color = 'green')\n",
    "plt.title('Silhouette Score vs k')\n",
    "plt.xlabel('Number of Clusters (k)')\n",
    "plt.ylabel('Silhouette Score')\n",
    "\n",
    "plt.tight_layout()\n",
    "plt.savefig(\"C:/ML/Labwork2/visualizations/obesity_elbow_silhouette.png\")\n",
    "plt.show()\n"
   ]
  },
  {
   "cell_type": "markdown",
   "id": "6644caec",
   "metadata": {},
   "source": [
    "# 4. Choose best k"
   ]
  },
  {
   "cell_type": "code",
   "execution_count": null,
   "id": "424d4246",
   "metadata": {},
   "outputs": [],
   "source": [
    "k_best = k_values[silhouettes.index(max(silhouettes))]\n",
    "final_kmeans = KMeans(n_clusters = k_best, init = 'k-means++', random_state = 42)\n",
    "obesity_df['Cluster'] = final_kmeans.fit_predict(scaled_data)\n",
    "\n",
    "# Visualize clusters with PCA (optional for high-dimensional data)\n",
    "from sklearn.decomposition import PCA\n",
    "pca = PCA(n_components = 2)\n",
    "components = pca.fit_transform(scaled_data)\n",
    "\n",
    "plt.figure(figsize=(8, 6))\n",
    "sns.scatterplot(x=components[:, 0], y=components[:, 1], hue=obesity_df['Cluster'], palette='Set2')\n",
    "plt.title(f'Clustering Result with k={k_best}')\n",
    "plt.xlabel('PCA Component 1')\n",
    "plt.ylabel('PCA Component 2')\n",
    "plt.savefig(\"C:/ML/Labwork2/visualizations/obesity_pca_clusters.png\")\n",
    "plt.show()\n"
   ]
  }
 ],
 "metadata": {
  "kernelspec": {
   "display_name": "Python 3",
   "language": "python",
   "name": "python3"
  },
  "language_info": {
   "codemirror_mode": {
    "name": "ipython",
    "version": 3
   },
   "file_extension": ".py",
   "mimetype": "text/x-python",
   "name": "python",
   "nbconvert_exporter": "python",
   "pygments_lexer": "ipython3",
   "version": "3.13.0"
  }
 },
 "nbformat": 4,
 "nbformat_minor": 5
}
